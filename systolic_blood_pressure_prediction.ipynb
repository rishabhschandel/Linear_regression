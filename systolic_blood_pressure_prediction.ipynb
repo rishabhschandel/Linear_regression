{
 "metadata": {
  "language_info": {
   "codemirror_mode": {
    "name": "ipython",
    "version": 3
   },
   "file_extension": ".py",
   "mimetype": "text/x-python",
   "name": "python",
   "nbconvert_exporter": "python",
   "pygments_lexer": "ipython3",
   "version": "3.9.1"
  },
  "orig_nbformat": 2,
  "kernelspec": {
   "name": "python391jvsc74a57bd0d9feab5a1f5d805ccfa6afac8eb9a08ce4745df9a38ca9beb1bb90cbf90b919c",
   "display_name": "Python 3.9.1 64-bit"
  }
 },
 "nbformat": 4,
 "nbformat_minor": 2,
 "cells": [
  {
   "cell_type": "code",
   "execution_count": 36,
   "metadata": {},
   "outputs": [],
   "source": [
    "import numpy as np\n",
    "import pandas as pd\n",
    "import xlrd\n",
    "import struct"
   ]
  },
  {
   "cell_type": "code",
   "execution_count": 51,
   "metadata": {},
   "outputs": [
    {
     "output_type": "error",
     "ename": "SyntaxError",
     "evalue": "unmatched ')' (<ipython-input-51-de48d4e03d89>, line 7)",
     "traceback": [
      "\u001b[1;36m  File \u001b[1;32m\"<ipython-input-51-de48d4e03d89>\"\u001b[1;36m, line \u001b[1;32m7\u001b[0m\n\u001b[1;33m    x1 = struct.unpack('!f', line.split(' ')[3]+line.split(' ')[4].decode('hex'))[0].decode('hex'))[0]\u001b[0m\n\u001b[1;37m                                                                                                  ^\u001b[0m\n\u001b[1;31mSyntaxError\u001b[0m\u001b[1;31m:\u001b[0m unmatched ')'\n"
     ]
    }
   ],
   "source": [
    "X = []\r\n",
    "Y = []\r\n",
    "with open('datasets/mlr02.xls', encoding='utf-8') as f:\r\n",
    "    for line in f:\r\n",
    "        \r\n",
    "        y = struct.unpack('!f', line.split(' ')[0]+line.split(' ')[1]+line.split(' ')[2].decode('hex'))[0]\r\n",
    "        x1 = struct.unpack('!f', line.split(' ')[3]+line.split(' ')[4].decode('hex'))[0]\r\n",
    "        x2 = struct.unpack('!f', line.split(' ')[5]+line.split(' ')[6]+line.split(' ')[7].decode('hex'))[0]\r\n",
    "        X.append([1, x1, x2])\r\n",
    "        Y.append(y)\r\n",
    "\r\n",
    "\r\n",
    "X"
   ]
  },
  {
   "cell_type": "code",
   "execution_count": null,
   "metadata": {},
   "outputs": [],
   "source": []
  }
 ]
}